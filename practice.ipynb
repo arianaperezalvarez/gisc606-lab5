{
 "cells": [
  {
   "cell_type": "code",
   "execution_count": 22,
   "metadata": {},
   "outputs": [],
   "source": [
    "import os\n",
    "from glob import glob\n",
    "\n",
    "import matplotlib.pyplot as plt\n",
    "import geopandas as gpd\n",
    "import rioxarray as rxr\n",
    "import xarray as xr\n",
    "from shapely.geometry import mapping\n",
    "import numpy as np\n",
    "import numpy.ma as ma\n",
    "import earthpy as et\n",
    "import earthpy.spatial as es\n",
    "import earthpy.plot as ep\n",
    "\n",
    "os.chdir(os.path.join(et.io.HOME, 'earth-analytics', 'data'))"
   ]
  },
  {
   "cell_type": "code",
   "execution_count": 23,
   "metadata": {},
   "outputs": [
    {
     "name": "stdout",
     "output_type": "stream",
     "text": [
      "Do challenge 1 here\n"
     ]
    }
   ],
   "source": [
    "print(\"Do challenge 1 here\")"
   ]
  },
  {
   "cell_type": "code",
   "execution_count": 24,
   "metadata": {},
   "outputs": [],
   "source": [
    "landsat_dir = \"path/to/LC080340322016070701T1-SC20180214145604\"\n",
    "fire_boundary_file = \"path/to/fire_boundary.shp\""
   ]
  },
  {
   "cell_type": "code",
   "execution_count": 26,
   "metadata": {},
   "outputs": [
    {
     "ename": "FileNotFoundError",
     "evalue": "Fire boundary shapefile not found at: path/to/fire_boundary.shp",
     "output_type": "error",
     "traceback": [
      "\u001b[0;31m---------------------------------------------------------------------------\u001b[0m",
      "\u001b[0;31mFileNotFoundError\u001b[0m                         Traceback (most recent call last)",
      "Cell \u001b[0;32mIn[26], line 2\u001b[0m\n\u001b[1;32m      1\u001b[0m \u001b[38;5;28;01mif\u001b[39;00m \u001b[38;5;129;01mnot\u001b[39;00m os\u001b[38;5;241m.\u001b[39mpath\u001b[38;5;241m.\u001b[39mexists(fire_boundary_file):\n\u001b[0;32m----> 2\u001b[0m     \u001b[38;5;28;01mraise\u001b[39;00m \u001b[38;5;167;01mFileNotFoundError\u001b[39;00m(\u001b[38;5;124mf\u001b[39m\u001b[38;5;124m\"\u001b[39m\u001b[38;5;124mFire boundary shapefile not found at: \u001b[39m\u001b[38;5;132;01m{\u001b[39;00mfire_boundary_file\u001b[38;5;132;01m}\u001b[39;00m\u001b[38;5;124m\"\u001b[39m)\n\u001b[1;32m      4\u001b[0m fire_boundary_file \u001b[38;5;241m=\u001b[39m \u001b[38;5;124m\"\u001b[39m\u001b[38;5;124mdata/fire_boundary.shp\u001b[39m\u001b[38;5;124m\"\u001b[39m\n\u001b[1;32m      6\u001b[0m \u001b[38;5;28;01mtry\u001b[39;00m:\n",
      "\u001b[0;31mFileNotFoundError\u001b[0m: Fire boundary shapefile not found at: path/to/fire_boundary.shp"
     ]
    }
   ],
   "source": [
    "if not os.path.exists(fire_boundary_file):\n",
    "    raise FileNotFoundError(f\"Fire boundary shapefile not found at: {fire_boundary_file}\")\n",
    "\n",
    "fire_boundary_file = \"data/fire_boundary.shp\"\n",
    "\n",
    "try:\n",
    "    fire_boundary = gpd.read_file(fire_boundary_file)\n",
    "    fire_boundary = fire_boundary.to_crs(\"EPSG:4326\")\n",
    "except Exception as e:\n",
    "    print(\"Error loading fire boundary shapefile:\", e)\n",
    "\n",
    "bands = []\n",
    "for file in os.listdir(landsat_dir):\n",
    "    if file.endswith(\".tif\") and \"band\" in file:\n",
    "        band_path = os.path.join(landsat_dir, file)\n",
    "        bands.append(xr.open_rasterio(band_path))\n",
    "\n",
    "landsat_data = xr.concat(bands, dim=\"band\")"
   ]
  },
  {
   "cell_type": "code",
   "execution_count": null,
   "metadata": {},
   "outputs": [
    {
     "name": "stdout",
     "output_type": "stream",
     "text": [
      "Do challenge 2 here\n"
     ]
    }
   ],
   "source": [
    "print(\"Do challenge 2 here\")"
   ]
  }
 ],
 "metadata": {
  "kernelspec": {
   "display_name": "Python 3",
   "language": "python",
   "name": "python3"
  },
  "language_info": {
   "codemirror_mode": {
    "name": "ipython",
    "version": 3
   },
   "file_extension": ".py",
   "mimetype": "text/x-python",
   "name": "python",
   "nbconvert_exporter": "python",
   "pygments_lexer": "ipython3",
   "version": "3.10.13"
  }
 },
 "nbformat": 4,
 "nbformat_minor": 2
}
